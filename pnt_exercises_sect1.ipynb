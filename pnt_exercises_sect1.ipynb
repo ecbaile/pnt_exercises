{
  "nbformat": 4,
  "nbformat_minor": 0,
  "metadata": {
    "colab": {
      "provenance": [],
      "authorship_tag": "ABX9TyMSMd1LuK4ISOhkXrzP7seI",
      "include_colab_link": true
    },
    "kernelspec": {
      "name": "python3",
      "display_name": "Python 3"
    },
    "language_info": {
      "name": "python"
    }
  },
  "cells": [
    {
      "cell_type": "markdown",
      "metadata": {
        "id": "view-in-github",
        "colab_type": "text"
      },
      "source": [
        "<a href=\"https://colab.research.google.com/github/ecbaile/pnt_exercises/blob/main/pnt_exercises_sect1.ipynb\" target=\"_parent\"><img src=\"https://colab.research.google.com/assets/colab-badge.svg\" alt=\"Open In Colab\"/></a>"
      ]
    },
    {
      "cell_type": "markdown",
      "source": [
        "# **Lecture 1: Introduction to Number Theory and Probabilistic Number Theory**"
      ],
      "metadata": {
        "id": "_A2TfTc8NEFF"
      }
    },
    {
      "cell_type": "markdown",
      "source": [
        "# Ex 0: Draw a large number of data points from a distribution and plot the resulting histogram"
      ],
      "metadata": {
        "id": "0Hdcvjk2NLMA"
      }
    },
    {
      "cell_type": "code",
      "execution_count": 1,
      "metadata": {
        "id": "Qj6wJt81NAOr"
      },
      "outputs": [],
      "source": [
        "# Pull in some useful packages\n",
        "import numpy as np\n",
        "import matplotlib.pyplot as plt"
      ]
    },
    {
      "cell_type": "code",
      "source": [
        "def create_data(data_size):\n",
        "  '''\n",
        "  This function takes in\n",
        "    'n', an integer giving the size of the sample set requested, and\n",
        "    'dist', an option string indicating which of one of the popular standard (1-d)distributions we want to draw from.  Options are:\n",
        "        'b': Bernoulli(1/2)\n",
        "        'e': Exponential(1)\n",
        "        'g': Geometric(1/2)\n",
        "        'n': Standard Normal (default)\n",
        "        'p': Poisson(1)\n",
        "        'u': Uniform([0,1]) (continuous)\n",
        "  and returns a list of n draws from the requested distribution.\n",
        "  '''\n",
        "  print('Please enter one of the following distributions.  Type')\n",
        "  print('\"b\" for Bernoulli(1/2)')\n",
        "  print('\"e\" for Exponential(1)')\n",
        "  print('\"g\" for Geometric(1/2)')\n",
        "  print('\"n\" for Normal(0,1)')\n",
        "  print('\"p\" for Poisson(1)')\n",
        "  print('\"u\" for Uniform([0,1])')\n",
        "\n",
        "  dist = input(\"Enter a choice: \")\n",
        "\n",
        "  distributions = {\n",
        "        'b': lambda sz: np.random.binomial(1, 0.5, sz),\n",
        "        'e': lambda sz: np.random.standard_exponential(sz),\n",
        "        'g': lambda sz: np.random.geometric(0.5, sz),\n",
        "        'n': lambda sz: np.random.standard_normal(sz),\n",
        "        'p': lambda sz: np.random.poisson(1, sz),\n",
        "        'u': lambda sz: np.random.uniform(0, 1, sz)\n",
        "    }\n",
        "  if dist in distributions:\n",
        "    data = distributions[dist](data_size)\n",
        "  else:\n",
        "    raise ValueError(\"Distribution input must be one of b, e, g, n, p, u.\")\n",
        "\n",
        "  return data"
      ],
      "metadata": {
        "id": "dXeOZW8BNyAf"
      },
      "execution_count": 27,
      "outputs": []
    },
    {
      "cell_type": "markdown",
      "source": [
        "You can run the above function as `create_data(1000)' for example to create a data set of size 100, where the function will ask you to choose from one of the popular distributions:"
      ],
      "metadata": {
        "id": "tOOmG6yBVZKc"
      }
    },
    {
      "cell_type": "code",
      "source": [
        "data = create_data(1000)"
      ],
      "metadata": {
        "colab": {
          "base_uri": "https://localhost:8080/"
        },
        "id": "4kHigklhSFKg",
        "outputId": "5d3912d2-92a7-4ddf-a478-f8f8cbdaa8be"
      },
      "execution_count": 35,
      "outputs": [
        {
          "name": "stdout",
          "output_type": "stream",
          "text": [
            "Please enter one of the following distributions.  Type\n",
            "\"b\" for Bernoulli(1/2)\n",
            "\"e\" for Exponential(1)\n",
            "\"g\" for Geometric(1/2)\n",
            "\"n\" for Normal(0,1)\n",
            "\"p\" for Poisson(1)\n",
            "\"u\" for Uniform([0,1])\n",
            "Enter a choice: g\n"
          ]
        }
      ]
    },
    {
      "cell_type": "markdown",
      "source": [
        "We can plot the data:"
      ],
      "metadata": {
        "id": "zpmBN7CRVpGd"
      }
    },
    {
      "cell_type": "code",
      "source": [
        "def plot_histogram(data, bins=10):\n",
        "    plt.hist(data, bins=bins, edgecolor='black')\n",
        "    plt.title('Histogram of Data')\n",
        "    plt.xlabel('Value')\n",
        "    plt.ylabel('Frequency')\n",
        "    plt.show()"
      ],
      "metadata": {
        "id": "5WgPvXonTmf_"
      },
      "execution_count": 62,
      "outputs": []
    },
    {
      "cell_type": "code",
      "source": [
        "plot_histogram(data)\n",
        "# The above uses the previously defined variable 'data', and the default number of bins, 10."
      ],
      "metadata": {
        "colab": {
          "base_uri": "https://localhost:8080/",
          "height": 472
        },
        "id": "j5m3i_LMcbT6",
        "outputId": "f425e0b8-a957-4526-fc80-098a777aa341"
      },
      "execution_count": 37,
      "outputs": [
        {
          "output_type": "display_data",
          "data": {
            "text/plain": [
              "<Figure size 640x480 with 1 Axes>"
            ],
            "image/png": "[encoded data removed]"
          },
          "metadata": {}
        }
      ]
    },
    {
      "cell_type": "markdown",
      "source": [
        "# Ex 1: Draw a large number of values of $\\zeta(1/2 + i \\tau)$, where $\\tau$ is a uniform random variable on $[T, 2T]$ for some large(ish) value of $T$:\\"
      ],
      "metadata": {
        "id": "qN5ncE3dcl3u"
      }
    },
    {
      "cell_type": "code",
      "source": [
        "import mpmath # Has pre-built functionality for zeta\n",
        "\n",
        "T = 10**8\n",
        "\n",
        "def get_rnd_zeta_values(sz, T):\n",
        "  '''\n",
        "  Returns a list of length sz of values of \\zeta(1/2 + i tau) for\n",
        "  tau ~ Unif([T, 2T])\n",
        "  '''\n",
        "  rnd_heights = np.random.uniform(T, 2*T, sz)\n",
        "  zeta_vals = []\n",
        "  for t in rnd_heights:\n",
        "    # We have to create complex multiprecision numbers in order to evaluate zeta at them.  We want 1/2 + i t for t an element of rnd_heights\n",
        "    s = mpmath.mpc(0.5, t)\n",
        "    zeta_vals.append(mpmath.zeta(s))\n",
        "  return zeta_vals\n",
        "\n",
        "'''\n",
        "Now, for reasons that we will see, we want to plot Re(log(zeta(1/2 + i t))), for each of the random zeta values.\n",
        "'''\n",
        "def get_re_log_zeta(zeta_data):\n",
        "  '''\n",
        "  Given zeta_data, a list of multiprecision values of zeta, returns the real part of the (complex) logarithm of each value.\n",
        "  Notice this is the same as the log of the absolute value.\n",
        "  '''\n",
        "  return [float(mpmath.log(abs(z))) for z in zeta_data]"
      ],
      "metadata": {
        "id": "HKYV1SlFcdXP"
      },
      "execution_count": 57,
      "outputs": []
    },
    {
      "cell_type": "markdown",
      "source": [
        "Let's plot! (Creating the zeta_data this way is a little slow, so have patience using larger sample sizes.)"
      ],
      "metadata": {
        "id": "pPjVv6kykF8S"
      }
    },
    {
      "cell_type": "code",
      "source": [
        "zeta_data = get_rnd_zeta_values(5000,T)"
      ],
      "metadata": {
        "id": "VaipOMwTilcP"
      },
      "execution_count": 68,
      "outputs": []
    },
    {
      "cell_type": "code",
      "source": [
        "log_zeta_data = get_re_log_zeta(zeta_data)\n",
        "\n",
        "plot_histogram(log_zeta_data, bins=80)"
      ],
      "metadata": {
        "colab": {
          "base_uri": "https://localhost:8080/",
          "height": 472
        },
        "id": "1bbbgYMEkYp3",
        "outputId": "6ab88218-085f-42ea-c0d7-cf1b5222c354"
      },
      "execution_count": 71,
      "outputs": [
        {
          "output_type": "display_data",
          "data": {
            "text/plain": [
              "<Figure size 640x480 with 1 Axes>"
            ],
            "image/png": "[encoded data removed]"
          },
          "metadata": {}
        }
      ]
    },
    {
      "cell_type": "code",
      "source": [],
      "metadata": {
        "id": "bt7AfswykbAa"
      },
      "execution_count": null,
      "outputs": []
    }
  ]
}